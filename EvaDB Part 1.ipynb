{
 "cells": [
  {
   "cell_type": "code",
   "execution_count": null,
   "id": "c2b2ce77",
   "metadata": {},
   "outputs": [],
   "source": [
    "# !pip install pdfquery\n",
    "# !pip install pandas\n",
    "# !pip install PyPDF2\n",
    "# !pip install --upgrade pymupdf\n",
    "# !pip install requests"
   ]
  },
  {
   "cell_type": "code",
   "execution_count": 1,
   "id": "2afbf711",
   "metadata": {},
   "outputs": [],
   "source": [
    "import pandas as pd\n",
    "import os\n",
    "import fitz\n",
    "import requests\n",
    "import csv\n",
    "import PyPDF2"
   ]
  },
  {
   "cell_type": "code",
   "execution_count": 2,
   "id": "25bd813c",
   "metadata": {},
   "outputs": [],
   "source": [
    "os.chdir(r\"C:\\Users\\SeanS\\Documents\\CS 6422\\EvaDB PDF\\orientation\")"
   ]
  },
  {
   "cell_type": "markdown",
   "id": "ffe6cfef",
   "metadata": {},
   "source": [
    "PyPDF2"
   ]
  },
  {
   "cell_type": "code",
   "execution_count": 3,
   "id": "32e2d6be",
   "metadata": {},
   "outputs": [],
   "source": [
    "with open('spring_2023_orientation_document.pdf', 'rb') as pdf_file:\n",
    "    pdf_reader = PyPDF2.PdfReader(pdf_file)\n",
    "    num_pages = len(pdf_reader.pages)\n",
    "    \n",
    "    extracted_text = ''\n",
    "    for page_num in range(num_pages):\n",
    "        page = pdf_reader.pages[page_num]\n",
    "        extracted_text += page.extract_text()\n",
    "\n",
    "    with open('pypdf2.txt', 'w', encoding='utf-8') as txt_file:\n",
    "        txt_file.write(extracted_text)"
   ]
  },
  {
   "cell_type": "markdown",
   "id": "9287e6db",
   "metadata": {},
   "source": [
    "Fitz Only"
   ]
  },
  {
   "cell_type": "code",
   "execution_count": 4,
   "id": "1e9423c1",
   "metadata": {},
   "outputs": [],
   "source": [
    "doc = fitz.open(\"spring_2023_orientation_document.pdf\") \n",
    "out = open(\"fitz_only.txt\", \"wb\") \n",
    "for page in doc: \n",
    "    text = page.get_text().encode(\"utf8\") # get plain text (is in UTF-8)\n",
    "    out.write(text) \n",
    "    out.write(bytes((12,)))\n",
    "out.close()"
   ]
  },
  {
   "cell_type": "markdown",
   "id": "2e525004",
   "metadata": {},
   "source": [
    "unstructuredIO only"
   ]
  },
  {
   "cell_type": "code",
   "execution_count": 11,
   "id": "7bd1f235",
   "metadata": {},
   "outputs": [
    {
     "name": "stdout",
     "output_type": "stream",
     "text": [
      "              type                        element_id  \\\n",
      "0            Title  083ea61c9b869089761a9e341155588c   \n",
      "1            Title  661618e17731986974fb3da731b1b96b   \n",
      "2            Title  7964f80b568e85e67060fac84a51786e   \n",
      "3            Title  3bcd9e03e3eaa295031a24cf9838cbde   \n",
      "4    NarrativeText  705eac3b0c92b0b88ed6179a97b0a8c7   \n",
      "..             ...                               ...   \n",
      "994          Title  c3d24dae34dc01c8baa600dd8d981014   \n",
      "995          Title  97a022c9dfbdc8d6464bb9eb82c22ee4   \n",
      "996       ListItem  e3b0c44298fc1c149afbf4c8996fb924   \n",
      "997   EmailAddress  5d7a4c5738bdc8457d551fd74e74a950   \n",
      "998  NarrativeText  fa47d600d89f84525001de8f0e5bbaf5   \n",
      "\n",
      "                                                  text  \\\n",
      "0                                         Georgia Tech   \n",
      "1                                 College of Computing   \n",
      "2    Online Master of Science in Computer Science (...   \n",
      "3               Spring 2023 OMSCS Orientation Document   \n",
      "4    Welcome to the OMSCS program! The faculty and ...   \n",
      "..                                                 ...   \n",
      "994                    Georgia Institute of Technology   \n",
      "995                                                oms   \n",
      "996                                                      \n",
      "997                             advising@cc.gatech.edu   \n",
      "998          Click here to return to Table of Contents   \n",
      "\n",
      "                        metadata.filename metadata.filetype  \\\n",
      "0    spring_2023_orientation_document.pdf   application/pdf   \n",
      "1    spring_2023_orientation_document.pdf   application/pdf   \n",
      "2    spring_2023_orientation_document.pdf   application/pdf   \n",
      "3    spring_2023_orientation_document.pdf   application/pdf   \n",
      "4    spring_2023_orientation_document.pdf   application/pdf   \n",
      "..                                    ...               ...   \n",
      "994  spring_2023_orientation_document.pdf   application/pdf   \n",
      "995  spring_2023_orientation_document.pdf   application/pdf   \n",
      "996  spring_2023_orientation_document.pdf   application/pdf   \n",
      "997  spring_2023_orientation_document.pdf   application/pdf   \n",
      "998  spring_2023_orientation_document.pdf   application/pdf   \n",
      "\n",
      "    metadata.languages  metadata.page_number  \n",
      "0           [eng, kor]                     1  \n",
      "1           [eng, kor]                     1  \n",
      "2           [eng, kor]                     1  \n",
      "3           [eng, kor]                     2  \n",
      "4           [eng, kor]                     2  \n",
      "..                 ...                   ...  \n",
      "994         [eng, kor]                    39  \n",
      "995         [eng, kor]                    39  \n",
      "996         [eng, kor]                    39  \n",
      "997         [eng, kor]                    39  \n",
      "998         [eng, kor]                    39  \n",
      "\n",
      "[999 rows x 7 columns]\n"
     ]
    }
   ],
   "source": [
    "url = 'https://api.unstructured.io/general/v0/general'\n",
    "\n",
    "headers = {\n",
    "    'accept': 'application/json',\n",
    "    'unstructured-api-key': 'DTmC4RIyD6E3XMBJcucb3GOUMoKHWK',\n",
    "}\n",
    "\n",
    "data = {\n",
    "    \"strategy\": \"ocr_only\",\n",
    "    \"ocr_languages\": [\"eng\", \"kor\"]\n",
    "}\n",
    "\n",
    "file_path = \"spring_2023_orientation_document.pdf\"\n",
    "file_data = {'files': open(file_path, 'rb')}\n",
    "\n",
    "response = requests.post(url, headers=headers, data=data, files=file_data)\n",
    "\n",
    "file_data['files'].close()\n",
    "\n",
    "structured_data = response.json()\n",
    "\n",
    "df = pd.json_normalize(structured_data)\n",
    "print(df)\n",
    "\n",
    "df.to_csv(\"unstructured_only.csv\", index=False)"
   ]
  },
  {
   "cell_type": "markdown",
   "id": "51dc371b",
   "metadata": {},
   "source": [
    "processing fitz_only.txt"
   ]
  },
  {
   "cell_type": "code",
   "execution_count": 9,
   "id": "4d9ce6da",
   "metadata": {},
   "outputs": [],
   "source": [
    "with open(\"fitz_only.txt\", \"r\", encoding='utf-8') as f:\n",
    "    lines = f.readlines()\n",
    "\n",
    "sentences = []\n",
    "current_sentence = ''\n",
    "\n",
    "for line in lines:\n",
    "    stripped_line = line.strip()\n",
    "    if not stripped_line:\n",
    "        # skip empty lines\n",
    "        continue  \n",
    "    # If the line looks like a title (no ending punctuation and possibly short)\n",
    "    if (len(stripped_line) < 60 and not stripped_line.endswith(('.', '!', '?'))):\n",
    "        if current_sentence:\n",
    "            sentences.append(current_sentence)\n",
    "            current_sentence = ''\n",
    "        # Treat title as its own 'sentence'\n",
    "        sentences.append(stripped_line)  \n",
    "        continue\n",
    "    # If the line ends with a typical sentence-ending punctuation\n",
    "    if stripped_line.endswith(('.', '!', '?')):\n",
    "        current_sentence += ' ' + stripped_line\n",
    "        sentences.append(current_sentence)\n",
    "        current_sentence = ''\n",
    "    else:\n",
    "        current_sentence += ' ' + stripped_line\n",
    "\n",
    "# For the case where the last piece of text doesn't end with a sentence-ending punctuation\n",
    "if current_sentence:\n",
    "    sentences.append(current_sentence)\n",
    "    \n",
    "with open('fitz_processed.txt', 'w', encoding='utf-8') as f:\n",
    "    for sentence in sentences:\n",
    "        f.write(sentence + '\\n')"
   ]
  },
  {
   "cell_type": "markdown",
   "id": "e5071cef",
   "metadata": {},
   "source": [
    "fitz + unstructuredIO"
   ]
  },
  {
   "cell_type": "code",
   "execution_count": 10,
   "id": "9d7a8b65",
   "metadata": {
    "collapsed": true
   },
   "outputs": [
    {
     "name": "stdout",
     "output_type": "stream",
     "text": [
      "               type                        element_id  \\\n",
      "0             Title  71ff43c910647e81d39e44c90f1cda0b   \n",
      "1             Title  492adf374353f048a3fcae9a48578d49   \n",
      "2             Title  3bcd9e03e3eaa295031a24cf9838cbde   \n",
      "3     NarrativeText  705eac3b0c92b0b88ed6179a97b0a8c7   \n",
      "4     NarrativeText  1f1bc56e00d904291eb1716c7a6782fc   \n",
      "...             ...                               ...   \n",
      "1417          Title  5fea0f0a7249db6476df8c65e4d17696   \n",
      "1418          Title  661618e17731986974fb3da731b1b96b   \n",
      "1419          Title  c3d24dae34dc01c8baa600dd8d981014   \n",
      "1420   EmailAddress  03861bef551800ced62de49b5e9b8a02   \n",
      "1421  NarrativeText  fa47d600d89f84525001de8f0e5bbaf5   \n",
      "\n",
      "                                                   text   metadata.filename  \\\n",
      "0     Online Master of Science in Computer Science (...  fitz_processed.txt   \n",
      "1                                           Spring 2023  fitz_processed.txt   \n",
      "2                Spring 2023 OMSCS Orientation Document  fitz_processed.txt   \n",
      "3     Welcome to the OMSCS program! The faculty and ...  fitz_processed.txt   \n",
      "4     We encourage you to review our onboarding info...  fitz_processed.txt   \n",
      "...                                                 ...                 ...   \n",
      "1417                                     OMSCS Advising  fitz_processed.txt   \n",
      "1418                               College of Computing  fitz_processed.txt   \n",
      "1419                    Georgia Institute of Technology  fitz_processed.txt   \n",
      "1420                         oms-advising@cc.gatech.edu  fitz_processed.txt   \n",
      "1421          Click here to return to Table of Contents  fitz_processed.txt   \n",
      "\n",
      "     metadata.filetype metadata.languages  \n",
      "0           text/plain              [eng]  \n",
      "1           text/plain              [eng]  \n",
      "2           text/plain         [eng, deu]  \n",
      "3           text/plain              [eng]  \n",
      "4           text/plain              [eng]  \n",
      "...                ...                ...  \n",
      "1417        text/plain              [eng]  \n",
      "1418        text/plain              [eng]  \n",
      "1419        text/plain              [eng]  \n",
      "1420        text/plain              [eng]  \n",
      "1421        text/plain              [eng]  \n",
      "\n",
      "[1422 rows x 6 columns]\n"
     ]
    }
   ],
   "source": [
    "url = 'https://api.unstructured.io/general/v0/general'\n",
    "\n",
    "headers = {\n",
    "    'accept': 'application/json',\n",
    "    'unstructured-api-key': 'DTmC4RIyD6E3XMBJcucb3GOUMoKHWK',\n",
    "}\n",
    "\n",
    "data = {\n",
    "    \"strategy\": \"ocr_only\",\n",
    "    \"ocr_languages\": [\"eng\", \"kor\"]\n",
    "}\n",
    "\n",
    "file_path = \"fitz_processed.txt\"\n",
    "file_data = {'files': open(file_path, 'rb')}\n",
    "\n",
    "response = requests.post(url, headers=headers, data=data, files=file_data)\n",
    "\n",
    "file_data['files'].close()\n",
    "\n",
    "structured_data = response.json()\n",
    "\n",
    "df2 = pd.json_normalize(structured_data)\n",
    "print(df2)\n",
    "\n",
    "df.to_csv(\"fitz+unstructured.csv\", index=False)"
   ]
  },
  {
   "cell_type": "markdown",
   "id": "04387532",
   "metadata": {},
   "source": [
    "Fitz can extract images :>"
   ]
  },
  {
   "cell_type": "code",
   "execution_count": 12,
   "id": "49d4c4a3",
   "metadata": {},
   "outputs": [
    {
     "name": "stdout",
     "output_type": "stream",
     "text": [
      "Found 1 images on page 0\n",
      "No images found on page 1\n",
      "No images found on page 2\n",
      "No images found on page 3\n",
      "No images found on page 4\n",
      "No images found on page 5\n",
      "No images found on page 6\n",
      "No images found on page 7\n",
      "No images found on page 8\n",
      "No images found on page 9\n",
      "No images found on page 10\n",
      "No images found on page 11\n",
      "No images found on page 12\n",
      "No images found on page 13\n",
      "No images found on page 14\n",
      "No images found on page 15\n",
      "No images found on page 16\n",
      "No images found on page 17\n",
      "No images found on page 18\n",
      "No images found on page 19\n",
      "No images found on page 20\n",
      "No images found on page 21\n",
      "No images found on page 22\n",
      "No images found on page 23\n",
      "No images found on page 24\n",
      "No images found on page 25\n",
      "No images found on page 26\n",
      "No images found on page 27\n",
      "No images found on page 28\n",
      "No images found on page 29\n",
      "No images found on page 30\n",
      "No images found on page 31\n",
      "No images found on page 32\n",
      "No images found on page 33\n",
      "No images found on page 34\n",
      "No images found on page 35\n",
      "No images found on page 36\n",
      "No images found on page 37\n",
      "No images found on page 38\n"
     ]
    }
   ],
   "source": [
    "doc = fitz.open(\"spring_2023_orientation_document.pdf\")\n",
    "for page_index in range(len(doc)): # iterate over pdf pages\n",
    "    page = doc[page_index] # get the page\n",
    "    image_list = page.get_images()\n",
    "\n",
    "    # print the number of images found on the page\n",
    "    if image_list:\n",
    "        print(f\"Found {len(image_list)} images on page {page_index}\")\n",
    "    else:\n",
    "        print(\"No images found on page\", page_index)\n",
    "\n",
    "    for image_index, img in enumerate(image_list, start=1): # enumerate the image list\n",
    "        xref = img[0] # get the XREF of the image\n",
    "        pix = fitz.Pixmap(doc, xref) # create a Pixmap\n",
    "\n",
    "        if pix.n - pix.alpha > 3: # CMYK: convert to RGB first\n",
    "            pix = fitz.Pixmap(fitz.csRGB, pix)\n",
    "\n",
    "        pix.save(\"page_%s-image_%s.png\" % (page_index, image_index)) # save the image as png\n",
    "        pix = None\n",
    "doc.close()"
   ]
  }
 ],
 "metadata": {
  "kernelspec": {
   "display_name": "Python 3 (ipykernel)",
   "language": "python",
   "name": "python3"
  },
  "language_info": {
   "codemirror_mode": {
    "name": "ipython",
    "version": 3
   },
   "file_extension": ".py",
   "mimetype": "text/x-python",
   "name": "python",
   "nbconvert_exporter": "python",
   "pygments_lexer": "ipython3",
   "version": "3.11.4"
  }
 },
 "nbformat": 4,
 "nbformat_minor": 5
}
