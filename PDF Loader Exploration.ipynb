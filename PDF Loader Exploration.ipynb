{
 "cells": [
  {
   "cell_type": "code",
   "execution_count": 1,
   "metadata": {},
   "outputs": [],
   "source": [
    "# !pip install pdfquery\n",
    "# !pip install pandas\n",
    "# !pip install PyPDF2\n",
    "# !pip install --upgrade pymupdf\n",
    "# !pip install requests"
   ]
  },
  {
   "cell_type": "code",
   "execution_count": 1,
   "metadata": {},
   "outputs": [],
   "source": [
    "# import pdfquery\n",
    "import pandas as pd\n",
    "import os\n",
    "import fitz\n",
    "import requests\n",
    "import csv\n",
    "# import PyPDF2"
   ]
  },
  {
   "cell_type": "code",
   "execution_count": 2,
   "metadata": {},
   "outputs": [],
   "source": [
    "os.chdir(r\"C:\\Users\\SeanS\\Documents\\CS 6422\\EvaDB PDF\\Sample1\")"
   ]
  },
  {
   "cell_type": "code",
   "execution_count": 3,
   "metadata": {},
   "outputs": [],
   "source": [
    "# Was used to just get first page\n",
    "# import fitz  # ensure you've imported the necessary library\n",
    "# doc = fitz.open(\"spring_2023_orientation_document.pdf\") \n",
    "# out = open(\"spring_2023_orientation_document_p1_output.txt\", \"wb\") \n",
    "# page = doc[1]\n",
    "# text = page.get_text().encode(\"utf8\")\n",
    "# out.write(text) \n",
    "# out.close()\n",
    "\n",
    "# For Entire Document\n",
    "doc = fitz.open(\"spring_2023_orientation_document.pdf\") # open a document\n",
    "out = open(\"spring_2023_orientation_document_output.txt\", \"wb\") # create a text output\n",
    "for page in doc: # iterate the document pages\n",
    "    text = page.get_text().encode(\"utf8\") # get plain text (is in UTF-8)\n",
    "    out.write(text) \n",
    "    out.write(bytes((12,))) # write page delimiter (form feed 0x0C)\n",
    "out.close()"
   ]
  },
  {
   "cell_type": "code",
   "execution_count": 4,
   "metadata": {},
   "outputs": [],
   "source": [
    "with open(\"spring_2023_orientation_document_output.txt\", \"r\", encoding='utf-8') as f:\n",
    "    lines = f.readlines()\n",
    "\n",
    "sentences = []\n",
    "current_sentence = ''\n",
    "\n",
    "for line in lines:\n",
    "    stripped_line = line.strip()\n",
    "    if not stripped_line:\n",
    "        # skip empty lines\n",
    "        continue  \n",
    "    # If the line looks like a title (no ending punctuation and possibly short)\n",
    "    if (len(stripped_line) < 60 and not stripped_line.endswith(('.', '!', '?'))):\n",
    "        if current_sentence:\n",
    "            sentences.append(current_sentence)\n",
    "            current_sentence = ''\n",
    "        # Treat title as its own 'sentence'\n",
    "        sentences.append(stripped_line)  \n",
    "        continue\n",
    "    # If the line ends with a typical sentence-ending punctuation\n",
    "    if stripped_line.endswith(('.', '!', '?')):\n",
    "        current_sentence += ' ' + stripped_line\n",
    "        sentences.append(current_sentence)\n",
    "        current_sentence = ''\n",
    "    else:\n",
    "        current_sentence += ' ' + stripped_line\n",
    "\n",
    "# For the case where the last piece of text doesn't end with a sentence-ending punctuation\n",
    "if current_sentence:\n",
    "    sentences.append(current_sentence)\n",
    "    \n",
    "with open('combined_sentences.txt', 'w', encoding='utf-8') as f:\n",
    "    for sentence in sentences:\n",
    "        f.write(sentence + '\\n')"
   ]
  },
  {
   "cell_type": "code",
   "execution_count": 16,
   "metadata": {},
   "outputs": [],
   "source": [
    "url = 'https://api.unstructured.io/general/v0/general'\n",
    "\n",
    "headers = {\n",
    "    'accept': 'application/json',\n",
    "    'unstructured-api-key': 'DTmC4RIyD6E3XMBJcucb3GOUMoKHWK',\n",
    "}\n",
    "\n",
    "data = {\n",
    "    \"strategy\": \"ocr_only\",\n",
    "    \"ocr_languages\": [\"eng\", \"kor\"]\n",
    "}\n",
    "\n",
    "file_path = \"combined_sentences.txt\"\n",
    "file_data = {'files': open(file_path, 'rb')}\n",
    "\n",
    "response = requests.post(url, headers=headers, data=data, files=file_data)\n",
    "\n",
    "file_data['files'].close()\n",
    "\n",
    "structured_data = response.json()"
   ]
  },
  {
   "cell_type": "code",
   "execution_count": 17,
   "metadata": {
    "scrolled": true
   },
   "outputs": [
    {
     "name": "stdout",
     "output_type": "stream",
     "text": [
      "               type                        element_id  \\\n",
      "0             Title  71ff43c910647e81d39e44c90f1cda0b   \n",
      "1             Title  492adf374353f048a3fcae9a48578d49   \n",
      "2             Title  3bcd9e03e3eaa295031a24cf9838cbde   \n",
      "3     NarrativeText  705eac3b0c92b0b88ed6179a97b0a8c7   \n",
      "4     NarrativeText  1f1bc56e00d904291eb1716c7a6782fc   \n",
      "...             ...                               ...   \n",
      "1417          Title  5fea0f0a7249db6476df8c65e4d17696   \n",
      "1418          Title  661618e17731986974fb3da731b1b96b   \n",
      "1419          Title  c3d24dae34dc01c8baa600dd8d981014   \n",
      "1420   EmailAddress  03861bef551800ced62de49b5e9b8a02   \n",
      "1421  NarrativeText  fa47d600d89f84525001de8f0e5bbaf5   \n",
      "\n",
      "                                               metadata  \\\n",
      "0     {'filename': 'combined_sentences.txt', 'filety...   \n",
      "1     {'filename': 'combined_sentences.txt', 'filety...   \n",
      "2     {'filename': 'combined_sentences.txt', 'filety...   \n",
      "3     {'filename': 'combined_sentences.txt', 'filety...   \n",
      "4     {'filename': 'combined_sentences.txt', 'filety...   \n",
      "...                                                 ...   \n",
      "1417  {'filename': 'combined_sentences.txt', 'filety...   \n",
      "1418  {'filename': 'combined_sentences.txt', 'filety...   \n",
      "1419  {'filename': 'combined_sentences.txt', 'filety...   \n",
      "1420  {'filename': 'combined_sentences.txt', 'filety...   \n",
      "1421  {'filename': 'combined_sentences.txt', 'filety...   \n",
      "\n",
      "                                                   text  \n",
      "0     Online Master of Science in Computer Science (...  \n",
      "1                                           Spring 2023  \n",
      "2                Spring 2023 OMSCS Orientation Document  \n",
      "3     Welcome to the OMSCS program! The faculty and ...  \n",
      "4     We encourage you to review our onboarding info...  \n",
      "...                                                 ...  \n",
      "1417                                     OMSCS Advising  \n",
      "1418                               College of Computing  \n",
      "1419                    Georgia Institute of Technology  \n",
      "1420                         oms-advising@cc.gatech.edu  \n",
      "1421          Click here to return to Table of Contents  \n",
      "\n",
      "[1422 rows x 4 columns]\n"
     ]
    }
   ],
   "source": [
    "df = pd.DataFrame(structured_data)\n",
    "print(df)"
   ]
  },
  {
   "cell_type": "code",
   "execution_count": 19,
   "metadata": {
    "scrolled": true
   },
   "outputs": [
    {
     "name": "stdout",
     "output_type": "stream",
     "text": [
      "               type                        element_id  \\\n",
      "0             Title  71ff43c910647e81d39e44c90f1cda0b   \n",
      "1             Title  492adf374353f048a3fcae9a48578d49   \n",
      "2             Title  3bcd9e03e3eaa295031a24cf9838cbde   \n",
      "3     NarrativeText  705eac3b0c92b0b88ed6179a97b0a8c7   \n",
      "4     NarrativeText  1f1bc56e00d904291eb1716c7a6782fc   \n",
      "...             ...                               ...   \n",
      "1417          Title  5fea0f0a7249db6476df8c65e4d17696   \n",
      "1418          Title  661618e17731986974fb3da731b1b96b   \n",
      "1419          Title  c3d24dae34dc01c8baa600dd8d981014   \n",
      "1420   EmailAddress  03861bef551800ced62de49b5e9b8a02   \n",
      "1421  NarrativeText  fa47d600d89f84525001de8f0e5bbaf5   \n",
      "\n",
      "                                                   text  \\\n",
      "0     Online Master of Science in Computer Science (...   \n",
      "1                                           Spring 2023   \n",
      "2                Spring 2023 OMSCS Orientation Document   \n",
      "3     Welcome to the OMSCS program! The faculty and ...   \n",
      "4     We encourage you to review our onboarding info...   \n",
      "...                                                 ...   \n",
      "1417                                     OMSCS Advising   \n",
      "1418                               College of Computing   \n",
      "1419                    Georgia Institute of Technology   \n",
      "1420                         oms-advising@cc.gatech.edu   \n",
      "1421          Click here to return to Table of Contents   \n",
      "\n",
      "           metadata.filename metadata.filetype metadata.languages  \n",
      "0     combined_sentences.txt        text/plain              [eng]  \n",
      "1     combined_sentences.txt        text/plain              [eng]  \n",
      "2     combined_sentences.txt        text/plain         [eng, deu]  \n",
      "3     combined_sentences.txt        text/plain              [eng]  \n",
      "4     combined_sentences.txt        text/plain              [eng]  \n",
      "...                      ...               ...                ...  \n",
      "1417  combined_sentences.txt        text/plain              [eng]  \n",
      "1418  combined_sentences.txt        text/plain              [eng]  \n",
      "1419  combined_sentences.txt        text/plain              [eng]  \n",
      "1420  combined_sentences.txt        text/plain              [eng]  \n",
      "1421  combined_sentences.txt        text/plain              [eng]  \n",
      "\n",
      "[1422 rows x 6 columns]\n"
     ]
    }
   ],
   "source": [
    "df2 = pd.json_normalize(structured_data)\n",
    "print(df2)"
   ]
  },
  {
   "cell_type": "code",
   "execution_count": 20,
   "metadata": {},
   "outputs": [],
   "source": [
    "df.to_csv(\"output_table_combined.txt\", index=False)"
   ]
  },
  {
   "cell_type": "markdown",
   "metadata": {},
   "source": [
    "Ignore Below, which was for exploration"
   ]
  },
  {
   "cell_type": "code",
   "execution_count": null,
   "metadata": {
    "scrolled": true
   },
   "outputs": [],
   "source": [
    "# print(structured_data)\n",
    "df = pd.read_json(response.json)"
   ]
  },
  {
   "cell_type": "code",
   "execution_count": null,
   "metadata": {},
   "outputs": [],
   "source": [
    "# Assuming structured_data is the parsed JSON you got from unstructured.io\n",
    "sections = structured_data['sections']\n",
    "\n",
    "# Define the CSV file path\n",
    "csv_path = \"unstructuredio.csv\"\n",
    "\n",
    "# Write the structured data to the CSV\n",
    "with open(csv_path, 'w', newline='', encoding='utf-8') as csvfile:\n",
    "    writer = csv.writer(csvfile)\n",
    "    \n",
    "    # Write the header\n",
    "    writer.writerow([\"Title\", \"Content\"])\n",
    "    \n",
    "    # Write the sections\n",
    "    for section in sections:\n",
    "        writer.writerow([section['title'], section['content']])"
   ]
  },
  {
   "cell_type": "code",
   "execution_count": null,
   "metadata": {},
   "outputs": [],
   "source": [
    "# Define the TXT file path\n",
    "txt_path = \"unstructuredio.txt\"\n",
    "\n",
    "# Write the structured data to the TXT file\n",
    "with open(txt_path, 'w', encoding='utf-8') as txtfile:\n",
    "    for section in sections:\n",
    "        txtfile.write(\"Title: \" + section['title'] + '\\n')\n",
    "        txtfile.write(\"Content:\\n\" + section['content'] + '\\n\\n')"
   ]
  },
  {
   "cell_type": "code",
   "execution_count": null,
   "metadata": {},
   "outputs": [],
   "source": [
    "doc = fitz.open(\"spring_2023_orientation_document.pdf\") # open a document\n",
    "out = open(\"spring_2023_orientation_document_output.txt\", \"wb\") # create a text output\n",
    "for page in doc: # iterate the document pages\n",
    "    text = page.get_text().encode(\"utf8\") # get plain text (is in UTF-8)\n",
    "    out.write(text) # write text of page\n",
    "    out.write(bytes((12,))) # write page delimiter (form feed 0x0C)\n",
    "out.close()"
   ]
  },
  {
   "cell_type": "code",
   "execution_count": null,
   "metadata": {},
   "outputs": [],
   "source": [
    "for page_index in range(len(doc)): # iterate over pdf pages\n",
    "    page = doc[page_index] # get the page\n",
    "    image_list = page.get_images()\n",
    "\n",
    "    # print the number of images found on the page\n",
    "    if image_list:\n",
    "        print(f\"Found {len(image_list)} images on page {page_index}\")\n",
    "    else:\n",
    "        print(\"No images found on page\", page_index)\n",
    "\n",
    "    for image_index, img in enumerate(image_list, start=1): # enumerate the image list\n",
    "        xref = img[0] # get the XREF of the image\n",
    "        pix = fitz.Pixmap(doc, xref) # create a Pixmap\n",
    "\n",
    "        if pix.n - pix.alpha > 3: # CMYK: convert to RGB first\n",
    "            pix = fitz.Pixmap(fitz.csRGB, pix)\n",
    "\n",
    "        pix.save(\"page_%s-image_%s.png\" % (page_index, image_index)) # save the image as png\n",
    "        pix = None\n",
    "doc.close()"
   ]
  },
  {
   "cell_type": "code",
   "execution_count": null,
   "metadata": {},
   "outputs": [],
   "source": [
    "os.chdir(r\"C:\\Users\\SeanS\\Documents\\CS 6422\\EvaDB PDF\\Sample2\")"
   ]
  },
  {
   "cell_type": "code",
   "execution_count": null,
   "metadata": {},
   "outputs": [],
   "source": [
    "doc2 = fitz.open(\"pdf_sample1.pdf\") # open a document\n",
    "out = open(\"pdf_sample1.txt\", \"wb\") # create a text output\n",
    "for page in doc2: # iterate the document pages\n",
    "    text = page.get_text().encode(\"utf8\") # get plain text (is in UTF-8)\n",
    "    out.write(text) # write text of page\n",
    "    out.write(bytes((12,))) # write page delimiter (form feed 0x0C)\n",
    "out.close()"
   ]
  },
  {
   "cell_type": "code",
   "execution_count": null,
   "metadata": {},
   "outputs": [],
   "source": [
    "for page_index in range(len(doc2)): # iterate over pdf pages\n",
    "    page = doc2[page_index] # get the page\n",
    "    image_list = page.get_images()\n",
    "\n",
    "    # print the number of images found on the page\n",
    "    if image_list:\n",
    "        print(f\"Found {len(image_list)} images on page {page_index}\")\n",
    "    else:\n",
    "        print(\"No images found on page\", page_index)\n",
    "\n",
    "    for image_index, img in enumerate(image_list, start=1): # enumerate the image list\n",
    "        xref = img[0] # get the XREF of the image\n",
    "        pix = fitz.Pixmap(doc2, xref) # create a Pixmap\n",
    "\n",
    "        if pix.n - pix.alpha > 3: # CMYK: convert to RGB first\n",
    "            pix = fitz.Pixmap(fitz.csRGB, pix)\n",
    "\n",
    "        pix.save(\"page_%s-image_%s.png\" % (page_index, image_index)) # save the image as png\n",
    "        pix = None\n",
    "doc2.close()"
   ]
  },
  {
   "cell_type": "code",
   "execution_count": null,
   "metadata": {},
   "outputs": [],
   "source": [
    "# Testing with pdfquery\n",
    "# pdf = pdfquery.PDFQuery('spring_2023_orientation_document.pdf')\n",
    "# pdf.load()\n",
    "# pdf.tree.write('test.xml', pretty_print = True)\n",
    "# pdf"
   ]
  },
  {
   "cell_type": "code",
   "execution_count": null,
   "metadata": {},
   "outputs": [],
   "source": [
    "# Testing with PyPDF2\n",
    "# Open in binary mode\n",
    "# pdf_file = open('spring_2023_orientation_document.pdf', 'rb')\n",
    "# pdf_reader = PyPDF2.PdfReader(pdf_file)"
   ]
  },
  {
   "cell_type": "code",
   "execution_count": null,
   "metadata": {},
   "outputs": [],
   "source": [
    "# Testing with PyPDF2\n",
    "page = pdf_reader.pages[1]\n",
    "page_text = page.extract_text()\n",
    "print(page_text)"
   ]
  }
 ],
 "metadata": {
  "kernelspec": {
   "display_name": "Python 3 (ipykernel)",
   "language": "python",
   "name": "python3"
  },
  "language_info": {
   "codemirror_mode": {
    "name": "ipython",
    "version": 3
   },
   "file_extension": ".py",
   "mimetype": "text/x-python",
   "name": "python",
   "nbconvert_exporter": "python",
   "pygments_lexer": "ipython3",
   "version": "3.11.4"
  }
 },
 "nbformat": 4,
 "nbformat_minor": 2
}
